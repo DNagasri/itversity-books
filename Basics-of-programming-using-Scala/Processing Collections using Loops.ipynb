{
 "cells": [
  {
   "cell_type": "markdown",
   "metadata": {},
   "source": [
    "# Processing Collections using Loops"
   ]
  },
  {
   "cell_type": "markdown",
   "metadata": {},
   "source": [
    "As part of this class we have seen\n",
    "\n",
    "* Overview of collections – List, Set and Map\n",
    "* Basic operations on List\n",
    "* Process collections using loops\n",
    "* Process collections using filter and map\n"
   ]
  },
  {
   "cell_type": "markdown",
   "metadata": {},
   "source": [
    "### Reading orders and orderItems from file system"
   ]
  },
  {
   "cell_type": "code",
   "execution_count": 9,
   "metadata": {},
   "outputs": [
    {
     "data": {
      "text/plain": [
       "orders = List(1,2013-07-25 00:00:00.0,11599,CLOSED, 2,2013-07-25 00:00:00.0,256,PENDING_PAYMENT, 3,2013-07-25 00:00:00.0,12111,COMPLETE, 4,2013-07-25 00:00:00.0,8827,CLOSED, 5,2013-07-25 00:00:00.0,11318,COMPLETE, 6,2013-07-25 00:00:00.0,7130,COMPLETE, 7,2013-07-25 00:00:00.0,4530,COMPLETE, 8,2013-07-25 00:00:00.0,2911,PROCESSING, 9,2013-07-25 00:00:00.0,5657,PENDING_PAYMENT, 10,2013-07-25 00:00:00.0,5648,PENDING_PAYMENT, 11,2013-07-25 00:00:00.0,918,PAYMENT_REVIEW, 12,2013-07-25 00:00:00.0,1837,CLOSED, 13,2013-07-25 00:00:00.0,9149,PENDING_PAYMENT, 14,2013-07-25 00:00:00.0,9842,PROCESSING, 15,2013-07-25 00:00:00.0,2568,COMPLETE, 16,2013-07-25 00:00:00.0,7276,PENDING_PAYMENT, 17,2013-07-25 00:00:00.0,2667,COMPLETE, 18,2013-07-25 00:00:00.0,1205,CLOSED, 19,2013-07-25 00:00:...\n"
      ]
     },
     "metadata": {},
     "output_type": "display_data",
     "source": "user"
    },
    {
     "data": {
      "text/plain": [
       "List(1,2013-07-25 00:00:00.0,11599,CLOSED, 2,2013-07-25 00:00:00.0,256,PENDING_PAYMENT, 3,2013-07-25 00:00:00.0,12111,COMPLETE, 4,2013-07-25 00:00:00.0,8827,CLOSED, 5,2013-07-25 00:00:00.0,11318,COMPLETE, 6,2013-07-25 00:00:00.0,7130,COMPLETE, 7,2013-07-25 00:00:00.0,4530,COMPLETE, 8,2013-07-25 00:00:00.0,2911,PROCESSING, 9,2013-07-25 00:00:00.0,5657,PENDING_PAYMENT, 10,2013-07-25 00:00:00.0,5648,PENDING_PAYMENT, 11,2013-07-25 00:00:00.0,918,PAYMENT_REVIEW, 12,2013-07-25 00:00:00.0,1837,CLOSED, 13,2013-07-25 00:00:00.0,9149,PENDING_PAYMENT, 14,2013-07-25 00:00:00.0,9842,PROCESSING, 15,2013-07-25 00:00:00.0,2568,COMPLETE, 16,2013-07-25 00:00:00.0,7276,PENDING_PAYMENT, 17,2013-07-25 00:00:00.0,2667,COMPLETE, 18,2013-07-25 00:00:00.0,1205,CLOSED, 19,2013-07-25 00:00:..."
      ]
     },
     "execution_count": 9,
     "metadata": {},
     "output_type": "execute_result"
    }
   ],
   "source": [
    "val orders = scala.io.Source.\n",
    "  fromFile(\"/data/retail_db/orders/part-00000\").getLines.toList\n",
    "\n",
    "val orderItems = scala.io.Source.\n",
    "  fromFile(\"/data/retail_db/orders/part-00000\").getLines.toList"
   ]
  },
  {
   "cell_type": "markdown",
   "metadata": {},
   "source": [
    "### myTake function using loops"
   ]
  },
  {
   "cell_type": "code",
   "execution_count": 7,
   "metadata": {},
   "outputs": [
    {
     "data": {
      "text/plain": [
       "Name: Unknown Error\n",
       "Message: <console>:26: error: not found: type ListBuffer\n",
       "         var l: ListBuffer[Any] = ListBuffer()\n",
       "                ^\n",
       "<console>:26: error: not found: value ListBuffer\n",
       "         var l: ListBuffer[Any] = ListBuffer()\n",
       "                                  ^\n",
       "\n",
       "StackTrace: "
      ]
     },
     "execution_count": 7,
     "metadata": {},
     "output_type": "execute_result"
    }
   ],
   "source": [
    "def myTake(c: List[Any], n: Int) = {\n",
    "  var l: ListBuffer[Any] = ListBuffer()\n",
    "  for(i <- (0 to n-1))\n",
    "    l += c(i)\n",
    "  l.toList\n",
    "}"
   ]
  },
  {
   "cell_type": "code",
   "execution_count": null,
   "metadata": {},
   "outputs": [],
   "source": [
    "Get revenue for order id using loops"
   ]
  },
  {
   "cell_type": "code",
   "execution_count": 8,
   "metadata": {},
   "outputs": [
    {
     "data": {
      "text/plain": [
       "getOrderRevenue: (orderItems: List[String], orderId: Int)Float\n"
      ]
     },
     "metadata": {},
     "output_type": "display_data",
     "source": "user"
    }
   ],
   "source": [
    "def getOrderRevenue(orderItems: List[String], orderId: Int): Float = {\n",
    "  var orderRevenue = 0.0f\n",
    "  for(i <- orderItems) {\n",
    "    if(i.split(\",\")(1).toInt == orderId) \n",
    "      orderRevenue += i.split(\",\")(4).toFloat\n",
    "  }\n",
    "  orderRevenue\n",
    "}"
   ]
  },
  {
   "cell_type": "markdown",
   "metadata": {},
   "source": [
    "#### Exercises\n",
    "\n",
    "* Get revenue for order id using loops. For each item subtotal can be computed by multiplying quantity (4th field) with price (6th field).\n",
    "    * Path: /data/retail_db/order_items/part-00000\n",
    "* Get count of complete orders\n",
    "    * Path: /data/retail_db/orders/part-00000\n",
    "* Get count of complete/closed orders that are placed in 2013 August\n",
    "\n",
    "### myFilter with invocations"
   ]
  },
  {
   "cell_type": "code",
   "execution_count": 11,
   "metadata": {},
   "outputs": [
    {
     "data": {
      "text/plain": [
       "lastException = null\n"
      ]
     },
     "metadata": {},
     "output_type": "display_data",
     "source": "user"
    },
    {
     "data": {
      "text/plain": [
       "Name: java.lang.NumberFormatException\n",
       "Message: For input string: \"2013-07-25 00:00:00.0\"\n",
       "StackTrace:   at java.lang.NumberFormatException.forInputString(NumberFormatException.java:65)\n",
       "  at java.lang.Integer.parseInt(Integer.java:580)\n",
       "  at java.lang.Integer.parseInt(Integer.java:615)\n",
       "  at scala.collection.immutable.StringLike$class.toInt(StringLike.scala:272)\n",
       "  at scala.collection.immutable.StringOps.toInt(StringOps.scala:29)\n",
       "  at $anonfun$1.apply(<console>:37)\n",
       "  at $anonfun$1.apply(<console>:37)\n",
       "  at $anonfun$myFilter$1.apply(<console>:31)\n",
       "  at $anonfun$myFilter$1.apply(<console>:30)\n",
       "  at scala.collection.immutable.List.foreach(List.scala:381)\n",
       "  at myFilter(<console>:30)"
      ]
     },
     "execution_count": 11,
     "metadata": {},
     "output_type": "execute_result"
    }
   ],
   "source": [
    "def myFilter(c: List[Any], f: Any => Boolean) = {\n",
    "  var l: List[Any] = List()\n",
    "  for(i <- c) {\n",
    "    if(f(i) == true)\n",
    "      l :+= i\n",
    "  }\n",
    "  l\n",
    "}\n",
    "\n",
    "myFilter(orderItems, s => s.toString.split(\",\")(1).toInt == 4).foreach(println)\n",
    "myFilter(orders, s => s.toString.split(\",\")(3) == \"COMPLETE\").foreach(println)"
   ]
  },
  {
   "cell_type": "markdown",
   "metadata": {},
   "source": [
    "### Get revenue for order id using Map Reduce"
   ]
  },
  {
   "cell_type": "code",
   "execution_count": 12,
   "metadata": {},
   "outputs": [
    {
     "data": {
      "text/plain": [
       "lastException: Throwable = null\n",
       "getReveneForOrderMR: (orderItems: List[String], orderId: Int)Float\n"
      ]
     },
     "metadata": {},
     "output_type": "display_data",
     "source": "user"
    }
   ],
   "source": [
    "def getReveneForOrderMR(orderItems: List[String], orderId: Int) = {\n",
    "  val orderItemsFiltered = orderItems.filter(o => o.split(\",\")(1).toInt == orderId)\n",
    "  val orderItemsMap = orderItemsFiltered.map(o => o.split(\",\")(4).toFloat)\n",
    "  orderItemsMap.sum\n",
    "}"
   ]
  },
  {
   "cell_type": "markdown",
   "metadata": {},
   "source": [
    "### Exercises\n",
    "\n",
    "* Get revenue for order id using Map Reduce. For each item subtotal can be computed by multiplying quantity (4th field) with price (6th field).\n",
    "    * Path: /data/retail_db/order_items/part-00000\n",
    "* Get count of complete orders\n",
    "     * Path: /data/retail_db/orders/part-00000\n",
    "* Get count of complete/closed orders that are placed in 2013 August"
   ]
  }
 ],
 "metadata": {
  "kernelspec": {
   "display_name": "Apache Toree - Scala",
   "language": "scala",
   "name": "apache_toree_scala"
  },
  "language_info": {
   "codemirror_mode": "text/x-scala",
   "file_extension": ".scala",
   "mimetype": "text/x-scala",
   "name": "scala",
   "pygments_lexer": "scala",
   "version": "2.11.12"
  }
 },
 "nbformat": 4,
 "nbformat_minor": 4
}
