{
 "cells": [
  {
   "cell_type": "markdown",
   "metadata": {},
   "source": [
    "# Basics of programming using Scala"
   ]
  },
  {
   "cell_type": "markdown",
   "metadata": {},
   "source": [
    "## What is Scala?\n",
    "\n",
    "* Scala is JVM based functional programming language.\n",
    "\n",
    "## Why Scala?\n",
    "\n",
    "* Even though Scala is there for more than a decade (founded in 2000), it have gained lot of momentum with Spark.\n",
    "* Spark is completely developed using Scala\n",
    "* On top of Spark (used for data processing), Scala also have frameworks such as Play to develop web applications\n",
    "\n",
    "## Syllabus\n",
    "\n",
    "* Brief history of Scala\n",
    "* REPL or CLI\n",
    "* Declaring Variables\n",
    "* Basic programming constructs\n",
    "* Functions\n",
    "* Object Oriented Concepts – Classes, Objects, Companion Classes, Case Classes\n",
    "* Collections\n",
    " * List\n",
    " * Set\n",
    " * Array\n",
    " * and others\n",
    "* Tuples\n",
    "\n",
    "There are many other important topics which are out of the scope for CCA Spark and Hadoop Developer or any Spark based courses for now\n",
    "\n",
    "* Traits\n",
    "* Pattern Matching\n",
    "* Closures\n",
    "* many more\n",
    "\n",
    "Before getting into the details of course, make sure to setup the environment for Scala as well as Spark using IntelliJ as IDE."
   ]
  }
 ],
 "metadata": {
  "kernelspec": {
   "display_name": "Apache Toree - Scala",
   "language": "scala",
   "name": "apache_toree_scala"
  },
  "language_info": {
   "codemirror_mode": "text/x-scala",
   "file_extension": ".scala",
   "mimetype": "text/x-scala",
   "name": "scala",
   "pygments_lexer": "scala",
   "version": "2.11.12"
  }
 },
 "nbformat": 4,
 "nbformat_minor": 4
}
