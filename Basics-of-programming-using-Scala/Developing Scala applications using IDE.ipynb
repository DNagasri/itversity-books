{
 "cells": [
  {
   "cell_type": "markdown",
   "metadata": {},
   "source": [
    "# Developing Scala applications using IDE"
   ]
  },
  {
   "cell_type": "markdown",
   "metadata": {},
   "source": [
    "As part of this session, we will be talking about\n",
    "\n",
    "* Run a Scala application via IntelliJ IDEA\n",
    "* Develop logic using Map Reduce API\n",
    "\n",
    "### Run a Scala application via IntelliJ IDEA\n",
    "\n",
    "1. Create or import a Scala project as you would normally create or import any other project in IntelliJ IDEA.\n",
    "1. Open your application in the editor.\n",
    "1. Press Shift+F10 to execute the application. Alternatively, in the left gutter of the editor, click the icon and select Run ‘name’."
   ]
  },
  {
   "cell_type": "code",
   "execution_count": null,
   "metadata": {},
   "outputs": [],
   "source": [
    "# Image"
   ]
  },
  {
   "cell_type": "markdown",
   "metadata": {},
   "source": [
    "### GetRevenueForEachOrder"
   ]
  },
  {
   "cell_type": "markdown",
   "metadata": {},
   "source": [
    "import scala.io.Source\n",
    "object GetRevenueForEachOrder {\n",
    "  def main(args: Array[String]): unit = {\n",
    "    val inputpath = args(0)\n",
    "    val orderId = arg(1).toInt\n",
    "    val orderItems: Seq[String] = Source.\n",
    "      fromFile(inputPath).\n",
    "      getLines.\n",
    "      toList\n",
    "    val RevenueForEachOrderId = orderItems.\n",
    "      filter(oi => oi.split(\",\")(1).toInt == orderId).\n",
    "      map(oi => oi.split(\",\")(4).toFloat).\n",
    "      reduce(_ + _)\n",
    "    println(orderRevenue)\n",
    "  }\n",
    "}\n"
   ]
  }
 ],
 "metadata": {
  "kernelspec": {
   "display_name": "Apache Toree - Scala",
   "language": "scala",
   "name": "apache_toree_scala"
  },
  "language_info": {
   "codemirror_mode": "text/x-scala",
   "file_extension": ".scala",
   "mimetype": "text/x-scala",
   "name": "scala",
   "pygments_lexer": "scala",
   "version": "2.11.12"
  }
 },
 "nbformat": 4,
 "nbformat_minor": 4
}
