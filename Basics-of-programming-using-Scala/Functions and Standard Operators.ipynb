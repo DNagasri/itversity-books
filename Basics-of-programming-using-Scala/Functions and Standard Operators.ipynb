{
 "cells": [
  {
   "cell_type": "markdown",
   "metadata": {},
   "source": [
    "# Functions and Standard Operators"
   ]
  },
  {
   "cell_type": "markdown",
   "metadata": {},
   "source": [
    "Let us understand about\n",
    "\n",
    "* Pre-defined Functions\n",
    "* User-defined Functions\n",
    "* Higher Order and Anonymous/lambda Functions\n",
    "Operators\n",
    "\n",
    "### Pre-defined Functions\n",
    "\n",
    "Most of the languages comes with pre-defined functionality in the form of functions. Let us understand the philosophy by going through string manipulation in detail.\n",
    "\n",
    "* Scala is object oriented programming language and all the functions are part of classes\n",
    "* Even operators (+, -, > etc) are functions, but brackets and dots are optional while invoking functions with some limitations.\n",
    " * e.g.: Adding 2 numbers 1 + 2 and 1.+(2) are same. + is also a function\n",
    "* String manipulation is very common as part of processing data\n",
    " * Create string variable <mark>val s = \"Hello\"</mark>\n",
    " * Equals <mark>s.==(\"Hello\")</mark> or <mark>s == \"Hello\"</mark>\n",
    " * Not Equals <mark>s.!=(\"Hello\")</mark> or <mark>s != \"Hello\"</mark>\n",
    " * Compare with partial string <mark>s.contains(\"ell\")</mark> or <mark>s contains \"ell\"</mark>\n",
    " * Get part of the string <mark>s.substring(2)</mark> -> “llo” or <mark>s.substring(2, 4)</mark> -> “ll”\n",
    " * Get the position of first occurrence of the string from beginning s.indexOf(“ll”)\n",
    " * Create another string <mark>val o = \"1,2013-07-25 00:00:00.0,11599,CLOSED\"</mark>\n",
    "   * Extract date using substring from above string\n",
    " * Converting string o to a list <mark>o.split(\",\")</mark>, we can access elements using index e.g.: <mark>o.split(\",\")(1)</mark> gives us date\n",
    " * toLowerCase and toUpperCase can be used to convert case\n",
    " * Type casting can be done using functions like toInt\n",
    " * Substring can be replaced with some other string using replace\n",
    " * Get size of the string o.size\n",
    " * Other important functions\n",
    "   * startsWith and endsWith\n",
    "   * concat\n",
    "   * reverse\n",
    "   * equals and equalsIgnoreCase\n",
    " * Having good knowledge of string manipulation functions is very important for Data Engineering using any programming language "
   ]
  },
  {
   "cell_type": "markdown",
   "metadata": {},
   "source": [
    "### Exercises\n",
    "\n",
    "* Exercise 1: Extract date and change format\n",
    "    * Create variable <mark>val o = \"120,2013-07-25 00:00:00.0,100,CLOSED\"</mark>\n",
    "    * Extract date from o and change the format of date to YYYYMMDD\n",
    "    * Output should be 20130725\n",
    "    \n",
    "* Exercise 2: Convert order item to array of elements using “,” as delimiter\n",
    "    * Create variable oi for 2,2,1073,1,199.99,199.99 .\n",
    "    * Split using “,” and assign it to variable oiArray.\n",
    "    \n",
    "* Exercise 3: Extract order item subtotal and add them\n",
    "    * Create 3 string variables for below records – oi1, oi2, oi3\n",
    "        * 2,2,1073,1,199.99,199.99\n",
    "        * 3,2,502,5,250.0,50.0\n",
    "        * 4,2,403,1,129.99,129.99\n",
    "    * Get order item subtotal (5th field) from above records.\n",
    "    * Add them and assign the result to variable orderRevenue.\n",
    "    * Print **order revenue for order id 2 is** \n",
    "    \n",
    "* Exercise 4: Check whether order status is COMPLETE\n",
    "    * Order Status is last field in the delimited string\n",
    "    * Create 3 string variables – o1, o2, o3\n",
    "         * 1,2013-07-25 00:00:00.0,11599,CLOSED\n",
    "         * 2,2013-07-25 00:00:00.0,256,PENDING_PAYMENT\n",
    "         * 3,2013-07-25 00:00:00.0,12111,COMPLETE\n",
    "    * Print true if order status is COMPLETE other wise print false   \n",
    "    \n",
    "* Exercise 5: Extract order status from below strings\n",
    "    * Order Status is last field in the delimited string\n",
    "    * Create 3 string variables – o1, o2, o3\n",
    "        * 1,2013-07-25 00:00:00.0,11599,CLOSED\n",
    "        * 2,2013-07-25 00:00:00.0,256,PENDING_PAYMENT\n",
    "        * 3,2013-07-25 00:00:00.0,12111,COMPLETE\n",
    "    * Create 3 variables – o1OrderStatus, o2OrderStatus, o3OrderStatus which contain only order status\n",
    "    \n",
    "    \n",
    "### User-defined Functions\n",
    "\n",
    "As part of this topic we will see functions/definitions in detail \n",
    "\n",
    "* Functional programming is a programming paradigm (others: Imperative and logical)\n",
    "* Advantages of Functional programming\n",
    "    * Simple reasoning principles\n",
    "    * Better modularity\n",
    "    * Good for leveraging multicore for parallelism and cloud computing\n",
    "* Functions are expressions (not statements)\n",
    "* Functions can be nested\n",
    "* Functions can be assigned to variables\n",
    "* Functions can be returned, passed as arguments\n",
    "* Even though Scala supports both call by value and call by name, default is call by value. It is also recommended to use call by value. Do not worry too much about difference at this time."
   ]
  },
  {
   "cell_type": "markdown",
   "metadata": {},
   "source": [
    "### Task 1 – Factorial\n",
    "\n",
    "Develop a function which will return factorial of a given number"
   ]
  },
  {
   "cell_type": "code",
   "execution_count": 2,
   "metadata": {},
   "outputs": [
    {
     "data": {
      "text/plain": [
       "fact: (i: Int)Int\n"
      ]
     },
     "metadata": {},
     "output_type": "display_data",
     "source": "user"
    }
   ],
   "source": [
    "def fact(i: Int) = {\n",
    "  var res = 1\n",
    "  for(e <- i to 1 by -1)\n",
    "    res = res * e\n",
    "  res\n",
    "}"
   ]
  },
  {
   "cell_type": "markdown",
   "metadata": {},
   "source": [
    "### Task 2 – Fibonacci\n",
    "\n",
    "Develop a function which will print number of elements in a Fibonacci series"
   ]
  },
  {
   "cell_type": "code",
   "execution_count": 4,
   "metadata": {},
   "outputs": [
    {
     "data": {
      "text/plain": [
       "fibo: (i: Int)Unit\n"
      ]
     },
     "metadata": {},
     "output_type": "display_data",
     "source": "user"
    }
   ],
   "source": [
    "def fibo(i: Int) = {\n",
    "  var pre = 0\n",
    "  var curr = 1\n",
    "  var res = 0\n",
    "  print(pre + \"\\t\" + curr)\n",
    "  for(e <- 2 to i - 1) {\n",
    "    res = pre + curr\n",
    "    pre = curr\n",
    "    curr = res\n",
    "    print(\"\\t\" + res)\n",
    "  }\n",
    "}"
   ]
  },
  {
   "cell_type": "markdown",
   "metadata": {},
   "source": [
    "### Task 3 – Factorial Recursive\n",
    "\n",
    "Develop a function which will return factorial of a given number recursively"
   ]
  },
  {
   "cell_type": "code",
   "execution_count": 6,
   "metadata": {},
   "outputs": [
    {
     "data": {
      "text/plain": [
       "factr: (i: Int)Int\n"
      ]
     },
     "metadata": {},
     "output_type": "display_data",
     "source": "user"
    }
   ],
   "source": [
    "def factr(i: Int): Int = if(i==1) 1 else i * factr(i-1)"
   ]
  },
  {
   "cell_type": "markdown",
   "metadata": {},
   "source": [
    "### Task 4 – Combinations\n",
    "\n",
    "Given 2 arguments n and r compute nCr (n! / ((n-r)! * r!))"
   ]
  },
  {
   "cell_type": "code",
   "execution_count": 8,
   "metadata": {},
   "outputs": [
    {
     "data": {
      "text/plain": [
       "fact: (i: Int)Int\n",
       "nCr: (n: Int, r: Int)Int\n"
      ]
     },
     "metadata": {},
     "output_type": "display_data",
     "source": "user"
    }
   ],
   "source": [
    "def fact(i: Int) = {\n",
    "  var res = 1\n",
    "  for(e <- i to 1 by -1)\n",
    "    res = res * e\n",
    "  res\n",
    "}\n",
    "\n",
    "def nCr(n: Int, r: Int) = {\n",
    "  fact(n)/(fact(n-r) * fact(r))\n",
    "}\n"
   ]
  },
  {
   "cell_type": "code",
   "execution_count": 9,
   "metadata": {},
   "outputs": [
    {
     "data": {
      "text/plain": [
       "nCr: (n: Int, r: Int)Int\n"
      ]
     },
     "metadata": {},
     "output_type": "display_data",
     "source": "user"
    }
   ],
   "source": [
    "//Nested functions\n",
    "def nCr(n: Int, r: Int) = {\n",
    "  def fact(i: Int) = {\n",
    "    var res = 1\n",
    "    for(e <- i to 1 by -1)\n",
    "      res = res * e\n",
    "    res\n",
    "  }\n",
    "\n",
    "  fact(n)/(fact(n-r) * fact(r))\n",
    "}"
   ]
  },
  {
   "cell_type": "markdown",
   "metadata": {},
   "source": [
    "### Exercise – isFibonacci\n",
    "\n",
    "Given 1 argument which takes an integer return true if the number belongs to fibonacci series else return false (eg: isFibonacci(13) should return true and isFibonacci(24) should return false)"
   ]
  },
  {
   "cell_type": "markdown",
   "metadata": {},
   "source": [
    "### Higher Order and Anonymous/lambda Functions\n",
    "\n",
    "As part of this topic we will see higher order functions and anonymous functions\n",
    "\n",
    "* In Scala a function can be a parameter, a return variable\n",
    "* If the parameter is a function then we need to define similar to regular function (eg: sum takes function as parameter)\n",
    "* We should not define functionality for the function which is defined as parameter while creating a function (sum in this case, we only declare f: Int => Int)\n",
    "* While invoking we need to provide the functionality for the parameters which are defined as functions (for parameter f in this case)\n",
    "* While invoking sum, the value for f can be a simple function, a variable or anonymous function\n",
    "* See the example below"
   ]
  },
  {
   "cell_type": "code",
   "execution_count": null,
   "metadata": {},
   "outputs": [],
   "source": [
    "//recursive\n",
    "def sum(f: Int => Int, a: Int, b: Int): Int = {\n",
    "    if(a > b) 0 else f(a) + sum(f, a + 1, b)\n",
    "}"
   ]
  },
  {
   "cell_type": "code",
   "execution_count": 1,
   "metadata": {},
   "outputs": [
    {
     "data": {
      "text/plain": [
       "sum: (f: Int => Int, a: Int, b: Int)Int\n"
      ]
     },
     "metadata": {},
     "output_type": "display_data",
     "source": "user"
    }
   ],
   "source": [
    "//non recursive\n",
    "def sum(f: Int => Int, a: Int, b: Int): Int = {\n",
    "    var res = 0\n",
    "    for(ele <- a to b by 1)\n",
    "        res = res + f(ele)\n",
    "    res\n",
    "}"
   ]
  },
  {
   "cell_type": "code",
   "execution_count": 2,
   "metadata": {},
   "outputs": [
    {
     "data": {
      "text/plain": [
       "<console>:28: error: missing argument list for method sum\n",
       "Unapplied methods are only converted to functions when a function type is expected.\n",
       "You can make this conversion explicit by writing `sum _` or `sum(_,_,_)` instead of `sum`.\n",
       "       sum\n",
       "       ^\n",
       "lastException: Throwable = null\n",
       "id: (i: Int)Int\n",
       "sqr: (i: Int)Int\n",
       "cube: (i: Int)Int\n"
      ]
     },
     "metadata": {},
     "output_type": "display_data",
     "source": "user"
    },
    {
     "data": {
      "text/plain": [
       "100"
      ]
     },
     "execution_count": 2,
     "metadata": {},
     "output_type": "execute_result"
    }
   ],
   "source": [
    "def id(i: Int) = i\n",
    "def sqr(i: Int) = math.pow(i, 2).toInt\n",
    "def cube(i: Int) = math.pow(i, 3).toInt\n",
    "\n",
    "sum(id, 1, 10)\n",
    "sum(sqr, 1, 5)\n",
    "sum(cube, 1, 4)"
   ]
  },
  {
   "cell_type": "markdown",
   "metadata": {},
   "source": [
    "### Operators\n",
    "\n",
    "Let us explore different operators in Scala\n",
    "\n",
    "* Operators are all functions\n",
    "* In Scala functions can be invoked with out using ., () etc with some restrictions\n",
    "* Even numeric operators such +, -, *, / etc are functions\n",
    "* We can implement functionality for all the operators for any class (in the form of functions)\n",
    "* == is also a function which invoke equals operator\n",
    "* We can use either equals or == to compare 2 objects\n",
    "* As == invokes equals, if equals is overridden then == will automatically overridden\n",
    "* eq is the function which will compare whether 2 objects pointing to same byte address of the object (similar to == in Java)\n",
    "* <mark>val (a, b) = (1, 2); a + b</mark> and <mark>val (a, b) = (1, 2); a.+(b)</mark> are same\n",
    "* For Boolean we have functions/operators such as && (and), || (or) and ! (negation)"
   ]
  }
 ],
 "metadata": {
  "kernelspec": {
   "display_name": "Apache Toree - Scala",
   "language": "scala",
   "name": "apache_toree_scala"
  },
  "language_info": {
   "codemirror_mode": "text/x-scala",
   "file_extension": ".scala",
   "mimetype": "text/x-scala",
   "name": "scala",
   "pygments_lexer": "scala",
   "version": "2.11.12"
  }
 },
 "nbformat": 4,
 "nbformat_minor": 4
}
