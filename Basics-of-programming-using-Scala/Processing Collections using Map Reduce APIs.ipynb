{
 "cells": [
  {
   "cell_type": "markdown",
   "metadata": {},
   "source": [
    "# Processing Collections using Map Reduce APIs"
   ]
  },
  {
   "cell_type": "markdown",
   "metadata": {},
   "source": [
    "As part of this class we have covered\n",
    "\n",
    "* Operations on Set\n",
    "* Understanding reduce\n",
    "* Aggregate functions such as sum, min, max etc\n",
    "* Reiterated on groupBy\n",
    "* Sorting data using sorted and sortBy\n",
    "\n",
    "### myReduce using loops"
   ]
  },
  {
   "cell_type": "code",
   "execution_count": 2,
   "metadata": {},
   "outputs": [
    {
     "data": {
      "text/plain": [
       "myReduce: (c: List[Int], agg: (Int, Int) => Int)Int\n"
      ]
     },
     "metadata": {},
     "output_type": "display_data",
     "source": "user"
    }
   ],
   "source": [
    "def myReduce(c: List[Int], agg: (Int, Int) => Int) = {\n",
    "  var total = c(0)\n",
    "  for(i <- c.tail) {\n",
    "     total = agg(total, i)\n",
    "  }\n",
    "  total\n",
    "}"
   ]
  },
  {
   "cell_type": "markdown",
   "metadata": {},
   "source": [
    "### Sorting Data using sorted\n",
    "\n",
    "* sorted will sort the data in natural order of the elements in the collection\n",
    "* Element type in the collection should have implicit function with Ordering"
   ]
  },
  {
   "cell_type": "code",
   "execution_count": 3,
   "metadata": {},
   "outputs": [
    {
     "data": {
      "text/plain": [
       "l = List(1, 2, 5, 6, 2, 3, 1)\n"
      ]
     },
     "metadata": {},
     "output_type": "display_data",
     "source": "user"
    },
    {
     "data": {
      "text/plain": [
       "List(1, 1, 2, 2, 3, 5, 6)"
      ]
     },
     "execution_count": 3,
     "metadata": {},
     "output_type": "execute_result"
    }
   ],
   "source": [
    "val l = List(1, 2, 5, 6, 2, 3, 1)\n",
    "l.sorted"
   ]
  },
  {
   "cell_type": "markdown",
   "metadata": {},
   "source": [
    "### Sorting Data using sortBy\n",
    "\n",
    "Problem Statement: Sort data by order customer id (3rd field in orders data)"
   ]
  },
  {
   "cell_type": "code",
   "execution_count": 5,
   "metadata": {},
   "outputs": [
    {
     "data": {
      "text/plain": [
       "orders = List(1,2013-07-25 00:00:00.0,11599,CLOSED, 2,2013-07-25 00:00:00.0,256,PENDING_PAYMENT, 3,2013-07-25 00:00:00.0,12111,COMPLETE, 4,2013-07-25 00:00:00.0,8827,CLOSED, 5,2013-07-25 00:00:00.0,11318,COMPLETE, 6,2013-07-25 00:00:00.0,7130,COMPLETE, 7,2013-07-25 00:00:00.0,4530,COMPLETE, 8,2013-07-25 00:00:00.0,2911,PROCESSING, 9,2013-07-25 00:00:00.0,5657,PENDING_PAYMENT, 10,2013-07-25 00:00:00.0,5648,PENDING_PAYMENT, 11,2013-07-25 00:00:00.0,918,PAYMENT_REVIEW, 12,2013-07-25 00:00:00.0,1837,CLOSED, 13,2013-07-25 00:00:00.0,9149,PENDING_PAYMENT, 14,2013-07-25 00:00:00.0,9842,PROCESSING, 15,2013-07-25 00:00:00.0,2568,COMPLETE, 16,2013-07-25 00:00:00.0,7276,PENDING_PAYMENT, 17,2013-07-25 00:00:00.0,2667,COMPLETE, 18,2013-07-25 00:00:00.0,1205,CLOSED, 19,2013-07-25 00:00:...\n"
      ]
     },
     "metadata": {},
     "output_type": "display_data",
     "source": "user"
    },
    {
     "data": {
      "text/plain": [
       "List(1,2013-07-25 00:00:00.0,11599,CLOSED, 2,2013-07-25 00:00:00.0,256,PENDING_PAYMENT, 3,2013-07-25 00:00:00.0,12111,COMPLETE, 4,2013-07-25 00:00:00.0,8827,CLOSED, 5,2013-07-25 00:00:00.0,11318,COMPLETE, 6,2013-07-25 00:00:00.0,7130,COMPLETE, 7,2013-07-25 00:00:00.0,4530,COMPLETE, 8,2013-07-25 00:00:00.0,2911,PROCESSING, 9,2013-07-25 00:00:00.0,5657,PENDING_PAYMENT, 10,2013-07-25 00:00:00.0,5648,PENDING_PAYMENT, 11,2013-07-25 00:00:00.0,918,PAYMENT_REVIEW, 12,2013-07-25 00:00:00.0,1837,CLOSED, 13,2013-07-25 00:00:00.0,9149,PENDING_PAYMENT, 14,2013-07-25 00:00:00.0,9842,PROCESSING, 15,2013-07-25 00:00:00.0,2568,COMPLETE, 16,2013-07-25 00:00:00.0,7276,PENDING_PAYMENT, 17,2013-07-25 00:00:00.0,2667,COMPLETE, 18,2013-07-25 00:00:00.0,1205,CLOSED, 19,2013-07-25 00:00:..."
      ]
     },
     "execution_count": 5,
     "metadata": {},
     "output_type": "execute_result"
    }
   ],
   "source": [
    "val orders = scala.io.Source.\n",
    "  fromFile(\"/data/retail_db/orders/part-00000\").getLines.toList\n",
    "// sorted will sort the data in natural order of the elements in the list\n",
    "orders.\n",
    "  sortBy(k => k.split(\",\")(2).toInt)"
   ]
  },
  {
   "cell_type": "markdown",
   "metadata": {},
   "source": [
    "### Exercises\n",
    "\n",
    "* Sort Data by product price in descending order\n",
    "    * Location: /data/retail_db/products/part-00000\n",
    "    * Price is 5th element in the data\n",
    "    * Filter out the record with product_id 685\n",
    "* Sort Data by product category id in ascending order\n",
    "    * Location: /data/retail_db/products/part-00000\n",
    "    * Category id is second element\n",
    "* Sort Data in ascending order by category id and descending order by product price\n",
    "    * Location: /data/retail_db/products/part-00000\n",
    "    * Category is second element and Product Price is 5th element\n",
    "    * Filter out the record with product_id 685\n",
    "* Compute order revenue for each order id and sort data in descending order by order revenue\n",
    "    * Location: /data/retail_db/order_items/part-00000\n",
    "    * Order id is second element and order item subtotal is 5th element\n",
    "    * First compute revenue for each order id and then sort the data in descending order by revenue\n",
    "    * Output should have only order_id and computed revenue"
   ]
  }
 ],
 "metadata": {
  "kernelspec": {
   "display_name": "Apache Toree - Scala",
   "language": "scala",
   "name": "apache_toree_scala"
  },
  "language_info": {
   "codemirror_mode": "text/x-scala",
   "file_extension": ".scala",
   "mimetype": "text/x-scala",
   "name": "scala",
   "pygments_lexer": "scala",
   "version": "2.11.12"
  }
 },
 "nbformat": 4,
 "nbformat_minor": 4
}
