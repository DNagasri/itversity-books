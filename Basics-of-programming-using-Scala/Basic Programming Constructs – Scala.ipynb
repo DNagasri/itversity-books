{
 "cells": [
  {
   "cell_type": "markdown",
   "metadata": {},
   "source": [
    "# Basic Programming Constructs – Scala"
   ]
  },
  {
   "cell_type": "markdown",
   "metadata": {},
   "source": [
    "Let us understand basics of programming using Scala.\n",
    "\n",
    "* Declaring Variables\n",
    "* Basic Programming Constructs\n",
    "* Code Blocks\n",
    "\n",
    "### Declaring Variables\n",
    "As part of this topic we will see details about declaring variables. We will also look at data types. To explore Scala you should primarily use your laptop or desktop.\n",
    "\n",
    "We will use Scala REPL to explore variables in scala.\n",
    "\n",
    "* val or var (immutable vs. mutable)\n",
    " * val is immutable\n",
    " * var is mutable\n",
    "* Implicit data types or Type inference\n",
    "* Explicit data types\n",
    "* There is no distinction such as primitive types and classes for primitive types\n",
    "* In Scala all primitive types are nothing but classes. Complexity is hidden from developers.\n",
    "* Primitive types are better in performance compared to classes for primitive types\n",
    "* When you specify classes for primitive types in Scala, if the variable have to behave like primitive type Scala compiler will take care of it\n",
    "* Here are the basic data types"
   ]
  },
  {
   "cell_type": "markdown",
   "metadata": {},
   "source": [
    "| Data Type      | Description |\n",
    "| ----------- | ----------- |\n",
    "| Byte      | 8-bit signed two’s complement integer (-2^7 to 2^7 – 1, inclusive)|\n",
    "| Short   | 16-bit signed two’s complement integer   (-2^15 to 2^15 – 1, inclusive) |\n",
    "| Int      | 32-bit signed two’s complement integer (-2^31 to 2^31 – 1, inclusive) |\n",
    "| Long   | 64-bit signed two’s complement integer  (-2^63 to 2^63 – 1, inclusive)|\n",
    "| Char     | 16-bit unsigned Unicode character (0 to 2^16 – 1, inclusive)|\n",
    "| String  | a sequence of Chars|\n",
    "| Float      | 32-bit IEEE 754 single-precision float |\n",
    "| Double   | 64-bit IEEE 754 double-precision float     |\n",
    "| Boolean     | true or false|"
   ]
  },
  {
   "cell_type": "markdown",
   "metadata": {},
   "source": [
    "### Task\n",
    "\n",
    "* create val <mark>a</mark> that is an integer value <mark>42</mark>\n",
    "* create val <mark>b</mark> that is a long value <mark>42</mark>\n",
    "* create val <mark>c</mark> that is a float value <mark>42.0</mark>\n",
    "* create val <mark>d</mark> that is a double value as multiplication of a, b, c\n",
    "* create val <mark>e</mark> that is a short value <mark>42.0</mark>\n",
    "* create val <mark>f</mark> that is a byte value <mark>42.0</mark>\n",
    "* create val <mark>g</mark> that is a hex of number (42) in base 10"
   ]
  },
  {
   "cell_type": "markdown",
   "metadata": {},
   "source": [
    "### Basic Programming Constructs\n",
    "As part of this topic we will see core language constructs.\n",
    "\n",
    "Let us see basic programming constructs, such as if else, while loop, for loop etc. As any programming language, Scala also support\n",
    "\n",
    "* if condition\n",
    "* ternary operator\n",
    "* while loop\n",
    "* for loop\n",
    "* Arithmetic operations\n",
    "* Boolean operations\n",
    "* and more"
   ]
  },
  {
   "cell_type": "code",
   "execution_count": 2,
   "metadata": {},
   "outputs": [
    {
     "name": "stdout",
     "output_type": "stream",
     "text": [
      "********\n",
      "Expression\n",
      "-50\n"
     ]
    },
    {
     "data": {
      "text/plain": [
       "c = -50\n"
      ]
     },
     "metadata": {},
     "output_type": "display_data",
     "source": "user"
    },
    {
     "data": {
      "text/plain": [
       "-50"
      ]
     },
     "execution_count": 2,
     "metadata": {},
     "output_type": "execute_result"
    }
   ],
   "source": [
    "//Expression\n",
    "println(\"********\")\n",
    "println(\"Expression\")\n",
    "val c = {\n",
    "  val i = (math.random * 100).toInt\n",
    "  val j = (math.random * 100).toInt\n",
    "  i - j\n",
    "}\n",
    "println(c)"
   ]
  },
  {
   "cell_type": "code",
   "execution_count": 3,
   "metadata": {},
   "outputs": [
    {
     "name": "stdout",
     "output_type": "stream",
     "text": [
      "value of x inside nested block is 0\n",
      "value of y inside nested block is 2\n",
      "value of x inside main block is 0\n",
      "value of y inside main block is 1\n"
     ]
    },
    {
     "data": {
      "text/plain": [
       "a: Unit = ()\n"
      ]
     },
     "metadata": {},
     "output_type": "display_data",
     "source": "user"
    }
   ],
   "source": [
    "//Nested block\n",
    "val a = {\n",
    "  val x = 0\n",
    "  val y = 1\n",
    "  val b = {\n",
    "    val y = 2\n",
    "    println(\"value of x inside nested block is \" + x)\n",
    "    println(\"value of y inside nested block is \" + y)\n",
    "  }\n",
    "  println(\"value of x inside main block is \" + x)\n",
    "  println(\"value of y inside main block is \" + y)\n",
    "}"
   ]
  },
  {
   "cell_type": "code",
   "execution_count": 4,
   "metadata": {},
   "outputs": [
    {
     "name": "stdout",
     "output_type": "stream",
     "text": [
      "********\n",
      "Another Expression\n",
      "true\n"
     ]
    },
    {
     "data": {
      "text/plain": [
       "sqr = true\n"
      ]
     },
     "metadata": {},
     "output_type": "display_data",
     "source": "user"
    },
    {
     "data": {
      "text/plain": [
       "true"
      ]
     },
     "execution_count": 4,
     "metadata": {},
     "output_type": "execute_result"
    }
   ],
   "source": [
    "println(\"********\")\n",
    "println(\"Another Expression\")\n",
    "val sqr = {\n",
    "  val a = 1\n",
    "  val b:Long = 23L\n",
    "  val hi = \"hi\"\n",
    "  true\n",
    "}\n",
    "println(sqr)"
   ]
  },
  {
   "cell_type": "code",
   "execution_count": 5,
   "metadata": {},
   "outputs": [
    {
     "name": "stdout",
     "output_type": "stream",
     "text": [
      "********\n",
      "if else\n",
      "20\n"
     ]
    },
    {
     "data": {
      "text/plain": [
       "i = 10\n",
       "j = 20\n"
      ]
     },
     "metadata": {},
     "output_type": "display_data",
     "source": "user"
    },
    {
     "data": {
      "text/plain": [
       "20"
      ]
     },
     "execution_count": 5,
     "metadata": {},
     "output_type": "execute_result"
    }
   ],
   "source": [
    "// Start writing your ScalaFiddle code here\n",
    "//if-else-if-else\n",
    "val i = 10\n",
    "val j = 20\n",
    "println(\"********\")\n",
    "println(\"if else\")\n",
    "if(i > j) {\n",
    "  println(i)\n",
    "} else if(i == j) {\n",
    "  println(\"Equal\")\n",
    "} else {\n",
    "  println(j)\n",
    "}"
   ]
  },
  {
   "cell_type": "code",
   "execution_count": 6,
   "metadata": {},
   "outputs": [
    {
     "name": "stdout",
     "output_type": "stream",
     "text": [
      "********\n",
      "Ternary\n",
      "20\n"
     ]
    }
   ],
   "source": [
    "//ternary operator, it uses if else\n",
    "println(\"********\")\n",
    "println(\"Ternary\")\n",
    "if(i > j) println(i) else println(j)"
   ]
  },
  {
   "cell_type": "code",
   "execution_count": 7,
   "metadata": {},
   "outputs": [
    {
     "name": "stdout",
     "output_type": "stream",
     "text": [
      "********\n",
      "While loop\n",
      "0\n",
      "1\n",
      "2\n",
      "3\n",
      "4\n",
      "5\n",
      "6\n",
      "7\n",
      "8\n",
      "9\n",
      "10\n"
     ]
    },
    {
     "data": {
      "text/plain": [
       "ctr = 11\n"
      ]
     },
     "metadata": {},
     "output_type": "display_data",
     "source": "user"
    },
    {
     "data": {
      "text/plain": [
       "11"
      ]
     },
     "execution_count": 7,
     "metadata": {},
     "output_type": "execute_result"
    }
   ],
   "source": [
    "//while loop\n",
    "println(\"********\")\n",
    "println(\"While loop\")\n",
    "var ctr = 0\n",
    "while(ctr <= i) {\n",
    "  println(ctr)\n",
    "  ctr += 1\n",
    "}"
   ]
  },
  {
   "cell_type": "code",
   "execution_count": 8,
   "metadata": {},
   "outputs": [
    {
     "name": "stdout",
     "output_type": "stream",
     "text": [
      "********\n",
      "For loop\n",
      "5\n",
      "6\n",
      "7\n",
      "8\n",
      "9\n",
      "10\n",
      "11\n",
      "12\n",
      "13\n",
      "14\n",
      "15\n",
      "16\n",
      "17\n",
      "18\n",
      "19\n",
      "20\n"
     ]
    },
    {
     "data": {
      "text/plain": [
       "ctr = 5\n"
      ]
     },
     "metadata": {},
     "output_type": "display_data",
     "source": "user"
    },
    {
     "data": {
      "text/plain": [
       "5"
      ]
     },
     "execution_count": 8,
     "metadata": {},
     "output_type": "execute_result"
    }
   ],
   "source": [
    "//for loop\n",
    "ctr = 5\n",
    "println(\"********\")\n",
    "println(\"For loop\")\n",
    "for(a <- ctr to j) {\n",
    "  println(a)\n",
    "}"
   ]
  },
  {
   "cell_type": "code",
   "execution_count": 9,
   "metadata": {},
   "outputs": [
    {
     "name": "stdout",
     "output_type": "stream",
     "text": [
      "********\n",
      "For loop increment by constant\n",
      "5\n",
      "7\n",
      "9\n",
      "11\n",
      "13\n",
      "15\n",
      "17\n",
      "19\n"
     ]
    },
    {
     "data": {
      "text/plain": [
       "constant = 2\n"
      ]
     },
     "metadata": {},
     "output_type": "display_data",
     "source": "user"
    },
    {
     "data": {
      "text/plain": [
       "2"
      ]
     },
     "execution_count": 9,
     "metadata": {},
     "output_type": "execute_result"
    }
   ],
   "source": [
    "println(\"********\")\n",
    "println(\"For loop increment by constant\")\n",
    "val constant = 2\n",
    "for(a <- ctr to j by constant) {\n",
    "  println(a)\n",
    "}"
   ]
  },
  {
   "cell_type": "code",
   "execution_count": 10,
   "metadata": {},
   "outputs": [
    {
     "name": "stdout",
     "output_type": "stream",
     "text": [
      "********\n",
      "For loop decrement by constant\n",
      "20\n",
      "18\n",
      "16\n",
      "14\n",
      "12\n",
      "10\n",
      "8\n",
      "6\n"
     ]
    }
   ],
   "source": [
    "println(\"********\")\n",
    "println(\"For loop decrement by constant\")\n",
    "for(a <- j to ctr by -constant) {\n",
    "  println(a)\n",
    "}"
   ]
  },
  {
   "cell_type": "markdown",
   "metadata": {},
   "source": [
    "However we do not use for loop as extensively while dealing with collections, we will see it later.\n",
    "\n",
    "### Task 1 – Factorial\n",
    "\n",
    "Develop a program which will print factorial of a given number"
   ]
  },
  {
   "cell_type": "code",
   "execution_count": 11,
   "metadata": {},
   "outputs": [
    {
     "name": "stdout",
     "output_type": "stream",
     "text": [
      "Factorial of 5 is 120\n"
     ]
    },
    {
     "data": {
      "text/plain": [
       "a = 5\n",
       "res = 120\n"
      ]
     },
     "metadata": {},
     "output_type": "display_data",
     "source": "user"
    },
    {
     "data": {
      "text/plain": [
       "120"
      ]
     },
     "execution_count": 11,
     "metadata": {},
     "output_type": "execute_result"
    }
   ],
   "source": [
    "val a = 5\n",
    "var res = 1\n",
    "for(e <- a to 2 by -1)\n",
    "  res = res * e\n",
    "println(\"Factorial of \" + a + \" is \" + res)"
   ]
  },
  {
   "cell_type": "markdown",
   "metadata": {},
   "source": [
    "### Task 2 – Fibonacci\n",
    "\n",
    "Develop a program which will generate number of elements in a Fibonacci series"
   ]
  },
  {
   "cell_type": "code",
   "execution_count": 12,
   "metadata": {},
   "outputs": [
    {
     "name": "stdout",
     "output_type": "stream",
     "text": [
      "0\n",
      "1\n",
      "1\n",
      "2\n",
      "3\n",
      "5\n",
      "8\n",
      "13\n",
      "21\n",
      "34\n"
     ]
    },
    {
     "data": {
      "text/plain": [
       "a = 10\n",
       "pre = 21\n",
       "curr = 34\n",
       "res = 34\n"
      ]
     },
     "metadata": {},
     "output_type": "display_data",
     "source": "user"
    },
    {
     "data": {
      "text/plain": [
       "34"
      ]
     },
     "execution_count": 12,
     "metadata": {},
     "output_type": "execute_result"
    }
   ],
   "source": [
    "val a = 10\n",
    "var pre = 0\n",
    "var curr = 1\n",
    "println(pre)\n",
    "println(curr)\n",
    "var res = 0\n",
    "for(e <- 2 to a - 1) {\n",
    "  res = pre + curr\n",
    "  println(res)\n",
    "  pre = curr\n",
    "  curr = res\n",
    "}"
   ]
  },
  {
   "cell_type": "markdown",
   "metadata": {},
   "source": [
    "### Code Blocks\n",
    "\n",
    "As part of this topic we will see fundamental of programming – Code blocks\n",
    "\n",
    "* Any thing that comes in the middle of { } is considered to be block of code\n",
    "* A block of code can be assigned to a variable. Code will be evaluated first and then the value will be returned to variable\n",
    "* It can also be assigned to functions – next topic\n",
    "* Blocks can be nested\n",
    "* Each line of code need not be ended with ; as in java. ; is optional\n",
    "* But if you want to write more than one expression in one line then each expression should be ended with ;\n",
    "* In blocks, the last statement of the <mark>code-block</mark> becomes the return value\n",
    "\n",
    "### Expression vs. Statement\n",
    "\n",
    "* Expressions are some code that yields a result. You can also say that an expression evaluates to a result or results in a value.\n",
    "* Statements are some code that does some action. This action is also called as a side effect. They do not return anything.\n",
    "* In scala, many constructs like <mark>code-blocks</mark>, <mark>if-else</mark>, <mark>method</mark> <mark>bodies</mark> are expressions\n",
    "* Expressions always return a value.\n",
    "* The value of c in the below code snippet from gist is the value of i – j\n",
    "* The type of the last statement becomes the type of the target variable\n",
    "* Data type of sqr in the below code snippet from gist is boolean"
   ]
  }
 ],
 "metadata": {
  "kernelspec": {
   "display_name": "Apache Toree - Scala",
   "language": "scala",
   "name": "apache_toree_scala"
  },
  "language_info": {
   "codemirror_mode": "text/x-scala",
   "file_extension": ".scala",
   "mimetype": "text/x-scala",
   "name": "scala",
   "pygments_lexer": "scala",
   "version": "2.11.12"
  }
 },
 "nbformat": 4,
 "nbformat_minor": 4
}
