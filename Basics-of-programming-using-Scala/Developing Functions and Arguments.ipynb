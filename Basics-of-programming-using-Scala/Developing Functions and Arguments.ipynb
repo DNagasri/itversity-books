{
 "cells": [
  {
   "cell_type": "markdown",
   "metadata": {},
   "source": [
    "# Developing Functions and Arguments"
   ]
  },
  {
   "cell_type": "markdown",
   "metadata": {},
   "source": [
    "As part of this topic we will see fundamental of programming – Code blocks\n",
    "\n",
    "* Any thing that comes in the middle of { } is considered to be block of code\n",
    "* A block of code can be assigned to a variable. Code will be evaluated first and then the value will be returned to variable\n",
    "* It can also be assigned to functions – next topic\n",
    "* Blocks can be nested\n",
    "* Each line of code need not be ended with ; as in java. ; is optional\n",
    "* But if you want to write more than one expression in one line then each expression should be ended with ;\n",
    "* In blocks, the last statement of the <mark>code-block</mark> becomes the return value"
   ]
  },
  {
   "cell_type": "code",
   "execution_count": 7,
   "metadata": {},
   "outputs": [
    {
     "name": "stdout",
     "output_type": "stream",
     "text": [
      "total is 5050\n"
     ]
    },
    {
     "data": {
      "text/plain": [
       "total: Unit = ()\n"
      ]
     },
     "metadata": {},
     "output_type": "display_data",
     "source": "user"
    }
   ],
   "source": [
    "//Example programme – To print from 1 to 100 line by line :\n",
    "\n",
    "val total={\n",
    "  val lb=1\n",
    "  val ub=100\n",
    "  var ctr=1\n",
    "  var total=0\n",
    "  while(ctr <=100) {\n",
    "    total +=ctr\n",
    "    ctr = ctr + 1\n",
    "  }\n",
    "  println(\"total is \" +total)\n",
    "}"
   ]
  },
  {
   "cell_type": "markdown",
   "metadata": {},
   "source": [
    "### Expression vs. Statement\n",
    "\n",
    "* Expressions are some code that yields a result. You can also say that an expression evaluates to a result or results in a value.\n",
    "* Statements are some code that does some action. This action is also called as a side effect. They do not return anything.\n",
    "* In scala, many constructs like code-blocks, if-else, method bodies are expressions.\n",
    "* Expressions always return a value.\n",
    "* The value of c in the below code snippet from gist is the value of i – j.\n",
    "* The type of the last statement becomes the type of the target variable.\n",
    "* Data type of sqr in the below code snippet from gist is boolean."
   ]
  }
 ],
 "metadata": {
  "kernelspec": {
   "display_name": "Apache Toree - Scala",
   "language": "scala",
   "name": "apache_toree_scala"
  },
  "language_info": {
   "codemirror_mode": "text/x-scala",
   "file_extension": ".scala",
   "mimetype": "text/x-scala",
   "name": "scala",
   "pygments_lexer": "scala",
   "version": "2.11.12"
  }
 },
 "nbformat": 4,
 "nbformat_minor": 4
}
